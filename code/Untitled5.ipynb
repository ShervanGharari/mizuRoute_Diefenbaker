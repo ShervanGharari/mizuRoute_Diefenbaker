{
 "cells": [
  {
   "cell_type": "markdown",
   "id": "a11ec478",
   "metadata": {},
   "source": [
    "-----------------\n",
    "# Creating the model application\n"
   ]
  },
  {
   "cell_type": "code",
   "execution_count": 1,
   "id": "6da6a709",
   "metadata": {},
   "outputs": [
    {
     "name": "stdout",
     "output_type": "stream",
     "text": [
      "ID int - -9999\n",
      "ID_next int - -9999\n",
      "area f8 - -9999\n",
      "length f8 - -9999\n",
      "lake int - -1\n",
      "target_vol int - -1\n",
      "lake_type int - -1\n",
      "abs/inj int - -1\n"
     ]
    }
   ],
   "source": [
    "# creating the river network topology\n",
    "\n",
    "# create the network topology file with parameters \n",
    "\n",
    "import os\n",
    "import pandas as pd\n",
    "import netCDF4 as nc4\n",
    "import numpy as np\n",
    "import time\n",
    "\n",
    "def nc_creation(Ntopo, Ntopo_flags, file_name):\n",
    "    \n",
    "\n",
    "    # open the nc file to write\n",
    "    ncid = nc4.Dataset(file_name, \"w\", format=\"NETCDF4\")\n",
    "\n",
    "    # the dimension of the nc file variables is equal to the row of the shapefile\n",
    "    dimid_N = ncid.createDimension('n',Ntopo.shape[0])\n",
    "    dimid_Nchar = ncid.createDimension('nchar',4)\n",
    "\n",
    "    # going through the field one by one and saving them in nc varibales with long name, units and variable type (int, etc)\n",
    "    for column in list(Ntopo_flags.columns):\n",
    "        \n",
    "        print(column, Ntopo_flags[column].iloc[0], Ntopo_flags[column].iloc[1], Ntopo_flags[column].iloc[2])\n",
    "        \n",
    "        # define the variable\n",
    "        varid = ncid.createVariable(column, Ntopo_flags[column].iloc[0],('n',),\\\n",
    "                                    zlib=True,fill_value=Ntopo_flags[column].iloc[2]) #assuming all the fields are floats\n",
    "        # Attributes\n",
    "        varid.long_name      = column\n",
    "        varid.unit           = Ntopo_flags[column].iloc[1]\n",
    "\n",
    "        # Write data\n",
    "        varid[:] = Ntopo[column]\n",
    "    \n",
    "    \n",
    "    # define the variable PFAF\n",
    "    varid = ncid.createVariable('PFAF','S1',('n','nchar',)) #assuming all the fields are floats\n",
    "    # Attributes\n",
    "    varid.long_name      = 'PFAF Order'\n",
    "    varid.unit           = '-'\n",
    "    # preparing the data\n",
    "    data = np.full(Ntopo.shape[0], 'test', 'S4')\n",
    "    data = nc4.stringtochar(data)\n",
    "    varid[:,:]=data\n",
    "\n",
    "    ncid.Conventions = 'CF-1.6'\n",
    "    ncid.License     = 'The data were written by Shervan Gharari. They are under GPL.'\n",
    "    ncid.history     = 'Created ' + time.ctime(time.time())\n",
    "    ncid.source      = 'Written by test script of utilities (https://github.com/ShervanGharari/utility-codes).'\n",
    "    ncid.close()\n",
    "\n",
    "\n",
    "# remove existing files\n",
    "file_name = '../data/network_topology/NTOPO.nc'\n",
    "if os.path.isfile(file_name):\n",
    "    os.remove(file_name)\n",
    "    \n",
    "Ntopo = pd.read_csv('../data/network_topology/NTOPO.csv')\n",
    "Ntopo_flags = pd.read_csv('../data/network_topology/NTOP_flag.csv')\n",
    "        \n",
    "nc_creation(Ntopo, Ntopo_flags, file_name)\n"
   ]
  },
  {
   "cell_type": "code",
   "execution_count": null,
   "id": "04036a28",
   "metadata": {},
   "outputs": [],
   "source": []
  }
 ],
 "metadata": {
  "kernelspec": {
   "display_name": "Python 3 (ipykernel)",
   "language": "python",
   "name": "python3"
  },
  "language_info": {
   "codemirror_mode": {
    "name": "ipython",
    "version": 3
   },
   "file_extension": ".py",
   "mimetype": "text/x-python",
   "name": "python",
   "nbconvert_exporter": "python",
   "pygments_lexer": "ipython3",
   "version": "3.9.2"
  }
 },
 "nbformat": 4,
 "nbformat_minor": 5
}
